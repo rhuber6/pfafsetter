{
 "cells": [
  {
   "cell_type": "code",
   "execution_count": 28,
   "outputs": [],
   "source": [
    "import pandas as pd\n",
    "import networkx as nx\n",
    "from collections import deque\n",
    "import geopandas as gpd"
   ],
   "metadata": {
    "collapsed": false
   }
  },
  {
   "cell_type": "code",
   "execution_count": 29,
   "metadata": {
    "collapsed": true
   },
   "outputs": [
    {
     "name": "stdout",
     "output_type": "stream",
     "text": [
      "have parquet file\n"
     ]
    }
   ],
   "source": [
    "parquet_file = \"/Users/rachel1/Downloads/model-metadata-table.parquet\"\n",
    "print(\"have parquet file\")\n",
    "\n",
    "# Read the Parquet file into a DataFrame\n",
    "meta_data = pd.read_parquet(parquet_file, engine=\"pyarrow\")"
   ]
  },
  {
   "cell_type": "code",
   "execution_count": 30,
   "outputs": [
    {
     "data": {
      "text/plain": "            LINKNO   DSLINKNO  strmOrder    USContArea    DSContArea  \\\n0        110007873  110009186          2  1.083060e+07  4.209271e+07   \n1        110010498  110011810          2  1.096513e+07  2.296918e+07   \n2        110005251  110019682          2  1.111977e+07  1.703163e+07   \n3        110018371  110014434          2  1.076590e+07  3.751075e+07   \n4        110009187  110011811          2  1.321197e+07  2.302526e+07   \n...            ...        ...        ...           ...           ...   \n6254099  820247408  820279661          9  1.666337e+12  1.666337e+12   \n6254100  820279661  820281005          9  1.666343e+12  1.666378e+12   \n6254101  820281005  820247403          9  1.666545e+12  1.666550e+12   \n6254102  820247403  820224554          9  1.666565e+12  1.666577e+12   \n6254103  820224554         -1          9  1.666584e+12  1.666584e+12   \n\n        TDXHydroRegion  VPUCode  TopologicalOrder  LengthGeodesicMeters  \\\n0           1020000010      102            177181          13384.058990   \n1           1020000010      102            177182           2201.649965   \n2           1020000010      102            177183           1972.054239   \n3           1020000010      102            177184           5305.002476   \n4           1020000010      102            177185           3587.784457   \n...                ...      ...               ...                   ...   \n6254099     8020008900      804            235109           3235.850704   \n6254100     8020008900      804            235111           1513.076667   \n6254101     8020008900      804            235112           3384.104153   \n6254102     8020008900      804            235114           2834.209687   \n6254103     8020008900      804            235115           1574.560993   \n\n         TerminalLink  musk_k  musk_x  \n0           110013122   53536    0.25  \n1           110013122    8807    0.25  \n2           110030180    7888    0.25  \n3           110030180   21220    0.25  \n4           110030180   14351    0.25  \n...               ...     ...     ...  \n6254099     820224554    3050    0.25  \n6254100     820224554    1426    0.25  \n6254101     820224554    3190    0.25  \n6254102     820224554    2671    0.25  \n6254103     820224554    1484    0.25  \n\n[6254104 rows x 12 columns]",
      "text/html": "<div>\n<style scoped>\n    .dataframe tbody tr th:only-of-type {\n        vertical-align: middle;\n    }\n\n    .dataframe tbody tr th {\n        vertical-align: top;\n    }\n\n    .dataframe thead th {\n        text-align: right;\n    }\n</style>\n<table border=\"1\" class=\"dataframe\">\n  <thead>\n    <tr style=\"text-align: right;\">\n      <th></th>\n      <th>LINKNO</th>\n      <th>DSLINKNO</th>\n      <th>strmOrder</th>\n      <th>USContArea</th>\n      <th>DSContArea</th>\n      <th>TDXHydroRegion</th>\n      <th>VPUCode</th>\n      <th>TopologicalOrder</th>\n      <th>LengthGeodesicMeters</th>\n      <th>TerminalLink</th>\n      <th>musk_k</th>\n      <th>musk_x</th>\n    </tr>\n  </thead>\n  <tbody>\n    <tr>\n      <th>0</th>\n      <td>110007873</td>\n      <td>110009186</td>\n      <td>2</td>\n      <td>1.083060e+07</td>\n      <td>4.209271e+07</td>\n      <td>1020000010</td>\n      <td>102</td>\n      <td>177181</td>\n      <td>13384.058990</td>\n      <td>110013122</td>\n      <td>53536</td>\n      <td>0.25</td>\n    </tr>\n    <tr>\n      <th>1</th>\n      <td>110010498</td>\n      <td>110011810</td>\n      <td>2</td>\n      <td>1.096513e+07</td>\n      <td>2.296918e+07</td>\n      <td>1020000010</td>\n      <td>102</td>\n      <td>177182</td>\n      <td>2201.649965</td>\n      <td>110013122</td>\n      <td>8807</td>\n      <td>0.25</td>\n    </tr>\n    <tr>\n      <th>2</th>\n      <td>110005251</td>\n      <td>110019682</td>\n      <td>2</td>\n      <td>1.111977e+07</td>\n      <td>1.703163e+07</td>\n      <td>1020000010</td>\n      <td>102</td>\n      <td>177183</td>\n      <td>1972.054239</td>\n      <td>110030180</td>\n      <td>7888</td>\n      <td>0.25</td>\n    </tr>\n    <tr>\n      <th>3</th>\n      <td>110018371</td>\n      <td>110014434</td>\n      <td>2</td>\n      <td>1.076590e+07</td>\n      <td>3.751075e+07</td>\n      <td>1020000010</td>\n      <td>102</td>\n      <td>177184</td>\n      <td>5305.002476</td>\n      <td>110030180</td>\n      <td>21220</td>\n      <td>0.25</td>\n    </tr>\n    <tr>\n      <th>4</th>\n      <td>110009187</td>\n      <td>110011811</td>\n      <td>2</td>\n      <td>1.321197e+07</td>\n      <td>2.302526e+07</td>\n      <td>1020000010</td>\n      <td>102</td>\n      <td>177185</td>\n      <td>3587.784457</td>\n      <td>110030180</td>\n      <td>14351</td>\n      <td>0.25</td>\n    </tr>\n    <tr>\n      <th>...</th>\n      <td>...</td>\n      <td>...</td>\n      <td>...</td>\n      <td>...</td>\n      <td>...</td>\n      <td>...</td>\n      <td>...</td>\n      <td>...</td>\n      <td>...</td>\n      <td>...</td>\n      <td>...</td>\n      <td>...</td>\n    </tr>\n    <tr>\n      <th>6254099</th>\n      <td>820247408</td>\n      <td>820279661</td>\n      <td>9</td>\n      <td>1.666337e+12</td>\n      <td>1.666337e+12</td>\n      <td>8020008900</td>\n      <td>804</td>\n      <td>235109</td>\n      <td>3235.850704</td>\n      <td>820224554</td>\n      <td>3050</td>\n      <td>0.25</td>\n    </tr>\n    <tr>\n      <th>6254100</th>\n      <td>820279661</td>\n      <td>820281005</td>\n      <td>9</td>\n      <td>1.666343e+12</td>\n      <td>1.666378e+12</td>\n      <td>8020008900</td>\n      <td>804</td>\n      <td>235111</td>\n      <td>1513.076667</td>\n      <td>820224554</td>\n      <td>1426</td>\n      <td>0.25</td>\n    </tr>\n    <tr>\n      <th>6254101</th>\n      <td>820281005</td>\n      <td>820247403</td>\n      <td>9</td>\n      <td>1.666545e+12</td>\n      <td>1.666550e+12</td>\n      <td>8020008900</td>\n      <td>804</td>\n      <td>235112</td>\n      <td>3384.104153</td>\n      <td>820224554</td>\n      <td>3190</td>\n      <td>0.25</td>\n    </tr>\n    <tr>\n      <th>6254102</th>\n      <td>820247403</td>\n      <td>820224554</td>\n      <td>9</td>\n      <td>1.666565e+12</td>\n      <td>1.666577e+12</td>\n      <td>8020008900</td>\n      <td>804</td>\n      <td>235114</td>\n      <td>2834.209687</td>\n      <td>820224554</td>\n      <td>2671</td>\n      <td>0.25</td>\n    </tr>\n    <tr>\n      <th>6254103</th>\n      <td>820224554</td>\n      <td>-1</td>\n      <td>9</td>\n      <td>1.666584e+12</td>\n      <td>1.666584e+12</td>\n      <td>8020008900</td>\n      <td>804</td>\n      <td>235115</td>\n      <td>1574.560993</td>\n      <td>820224554</td>\n      <td>1484</td>\n      <td>0.25</td>\n    </tr>\n  </tbody>\n</table>\n<p>6254104 rows × 12 columns</p>\n</div>"
     },
     "execution_count": 30,
     "metadata": {},
     "output_type": "execute_result"
    }
   ],
   "source": [
    "meta_data"
   ],
   "metadata": {
    "collapsed": false
   }
  },
  {
   "cell_type": "code",
   "execution_count": 31,
   "outputs": [
    {
     "data": {
      "text/plain": "            LINKNO   DSLINKNO  strmOrder    USContArea    DSContArea  \\\n5243964  710009923  710017859          2  9.757764e+06  1.774100e+07   \n5243965  710011907  710021828          2  9.961045e+06  2.049310e+07   \n5243966  710013891  710015875          2  1.318300e+07  1.837337e+07   \n5243967  710005956  710015876          2  1.003304e+07  1.718574e+07   \n5243968  710007941  710021830          2  1.181393e+07  2.802320e+07   \n...            ...        ...        ...           ...           ...   \n6103714  780050562  780050946          6  8.466326e+09  8.471870e+09   \n6103715  780050946  780048641          6  8.481928e+09  8.482809e+09   \n6103716  780048641  780049025          6  8.488289e+09  8.489888e+09   \n6103717  780049025  780057855          6  8.505444e+09  8.514673e+09   \n6103718  780057855         -1          6  8.521515e+09  8.527216e+09   \n\n        TDXHydroRegion  VPUCode  TopologicalOrder  LengthGeodesicMeters  \\\n5243964     7020000010      702            167482            983.215740   \n5243965     7020000010      702            167483           1300.083005   \n5243966     7020000010      702            167484           1985.630403   \n5243967     7020000010      702            167485           3632.552079   \n5243968     7020000010      702            167486           3876.816305   \n...                ...      ...               ...                   ...   \n6103714     7020065090      718             24443           5724.453811   \n6103715     7020065090      718             24444           2943.494318   \n6103716     7020065090      718             24445           4805.185059   \n6103717     7020065090      718             24446          34094.938106   \n6103718     7020065090      718             24447          34826.097349   \n\n         TerminalLink  musk_k  musk_x  \n5243964     710194483    3933    0.25  \n5243965     710194483    5200    0.25  \n5243966     710194483    7943    0.25  \n5243967     710194483   14530    0.25  \n5243968     710194483   15507    0.25  \n...               ...     ...     ...  \n6103714     780057855   13129    0.25  \n6103715     780057855    6751    0.25  \n6103716     780057855   11021    0.25  \n6103717     780057855   78199    0.25  \n6103718     780057855   79694    0.25  \n\n[859755 rows x 12 columns]",
      "text/html": "<div>\n<style scoped>\n    .dataframe tbody tr th:only-of-type {\n        vertical-align: middle;\n    }\n\n    .dataframe tbody tr th {\n        vertical-align: top;\n    }\n\n    .dataframe thead th {\n        text-align: right;\n    }\n</style>\n<table border=\"1\" class=\"dataframe\">\n  <thead>\n    <tr style=\"text-align: right;\">\n      <th></th>\n      <th>LINKNO</th>\n      <th>DSLINKNO</th>\n      <th>strmOrder</th>\n      <th>USContArea</th>\n      <th>DSContArea</th>\n      <th>TDXHydroRegion</th>\n      <th>VPUCode</th>\n      <th>TopologicalOrder</th>\n      <th>LengthGeodesicMeters</th>\n      <th>TerminalLink</th>\n      <th>musk_k</th>\n      <th>musk_x</th>\n    </tr>\n  </thead>\n  <tbody>\n    <tr>\n      <th>5243964</th>\n      <td>710009923</td>\n      <td>710017859</td>\n      <td>2</td>\n      <td>9.757764e+06</td>\n      <td>1.774100e+07</td>\n      <td>7020000010</td>\n      <td>702</td>\n      <td>167482</td>\n      <td>983.215740</td>\n      <td>710194483</td>\n      <td>3933</td>\n      <td>0.25</td>\n    </tr>\n    <tr>\n      <th>5243965</th>\n      <td>710011907</td>\n      <td>710021828</td>\n      <td>2</td>\n      <td>9.961045e+06</td>\n      <td>2.049310e+07</td>\n      <td>7020000010</td>\n      <td>702</td>\n      <td>167483</td>\n      <td>1300.083005</td>\n      <td>710194483</td>\n      <td>5200</td>\n      <td>0.25</td>\n    </tr>\n    <tr>\n      <th>5243966</th>\n      <td>710013891</td>\n      <td>710015875</td>\n      <td>2</td>\n      <td>1.318300e+07</td>\n      <td>1.837337e+07</td>\n      <td>7020000010</td>\n      <td>702</td>\n      <td>167484</td>\n      <td>1985.630403</td>\n      <td>710194483</td>\n      <td>7943</td>\n      <td>0.25</td>\n    </tr>\n    <tr>\n      <th>5243967</th>\n      <td>710005956</td>\n      <td>710015876</td>\n      <td>2</td>\n      <td>1.003304e+07</td>\n      <td>1.718574e+07</td>\n      <td>7020000010</td>\n      <td>702</td>\n      <td>167485</td>\n      <td>3632.552079</td>\n      <td>710194483</td>\n      <td>14530</td>\n      <td>0.25</td>\n    </tr>\n    <tr>\n      <th>5243968</th>\n      <td>710007941</td>\n      <td>710021830</td>\n      <td>2</td>\n      <td>1.181393e+07</td>\n      <td>2.802320e+07</td>\n      <td>7020000010</td>\n      <td>702</td>\n      <td>167486</td>\n      <td>3876.816305</td>\n      <td>710194483</td>\n      <td>15507</td>\n      <td>0.25</td>\n    </tr>\n    <tr>\n      <th>...</th>\n      <td>...</td>\n      <td>...</td>\n      <td>...</td>\n      <td>...</td>\n      <td>...</td>\n      <td>...</td>\n      <td>...</td>\n      <td>...</td>\n      <td>...</td>\n      <td>...</td>\n      <td>...</td>\n      <td>...</td>\n    </tr>\n    <tr>\n      <th>6103714</th>\n      <td>780050562</td>\n      <td>780050946</td>\n      <td>6</td>\n      <td>8.466326e+09</td>\n      <td>8.471870e+09</td>\n      <td>7020065090</td>\n      <td>718</td>\n      <td>24443</td>\n      <td>5724.453811</td>\n      <td>780057855</td>\n      <td>13129</td>\n      <td>0.25</td>\n    </tr>\n    <tr>\n      <th>6103715</th>\n      <td>780050946</td>\n      <td>780048641</td>\n      <td>6</td>\n      <td>8.481928e+09</td>\n      <td>8.482809e+09</td>\n      <td>7020065090</td>\n      <td>718</td>\n      <td>24444</td>\n      <td>2943.494318</td>\n      <td>780057855</td>\n      <td>6751</td>\n      <td>0.25</td>\n    </tr>\n    <tr>\n      <th>6103716</th>\n      <td>780048641</td>\n      <td>780049025</td>\n      <td>6</td>\n      <td>8.488289e+09</td>\n      <td>8.489888e+09</td>\n      <td>7020065090</td>\n      <td>718</td>\n      <td>24445</td>\n      <td>4805.185059</td>\n      <td>780057855</td>\n      <td>11021</td>\n      <td>0.25</td>\n    </tr>\n    <tr>\n      <th>6103717</th>\n      <td>780049025</td>\n      <td>780057855</td>\n      <td>6</td>\n      <td>8.505444e+09</td>\n      <td>8.514673e+09</td>\n      <td>7020065090</td>\n      <td>718</td>\n      <td>24446</td>\n      <td>34094.938106</td>\n      <td>780057855</td>\n      <td>78199</td>\n      <td>0.25</td>\n    </tr>\n    <tr>\n      <th>6103718</th>\n      <td>780057855</td>\n      <td>-1</td>\n      <td>6</td>\n      <td>8.521515e+09</td>\n      <td>8.527216e+09</td>\n      <td>7020065090</td>\n      <td>718</td>\n      <td>24447</td>\n      <td>34826.097349</td>\n      <td>780057855</td>\n      <td>79694</td>\n      <td>0.25</td>\n    </tr>\n  </tbody>\n</table>\n<p>859755 rows × 12 columns</p>\n</div>"
     },
     "execution_count": 31,
     "metadata": {},
     "output_type": "execute_result"
    }
   ],
   "source": [
    "df = meta_data[meta_data['VPUCode'].astype(str).str.startswith('7')]\n",
    "\n",
    "df"
   ],
   "metadata": {
    "collapsed": false
   }
  },
  {
   "cell_type": "code",
   "execution_count": 32,
   "outputs": [],
   "source": [
    "\n",
    "# Example: Assuming df has columns 'LINKNO' and 'DSLINKNO'\n",
    "G = nx.DiGraph()\n",
    "\n",
    "# Add edges from LINKNO to DSLINKNO\n",
    "edges = df[['LINKNO', 'DSLINKNO']].dropna().itertuples(index=False, name=None)\n",
    "G.add_edges_from(edges)"
   ],
   "metadata": {
    "collapsed": false
   }
  },
  {
   "cell_type": "code",
   "execution_count": 33,
   "outputs": [],
   "source": [
    "def count_upstream_links(G, linkno):\n",
    "    # Get all nodes that can reach the given linkno (predecessors)\n",
    "    upstream_links = nx.ancestors(G, linkno)\n",
    "    return len(upstream_links)"
   ],
   "metadata": {
    "collapsed": false
   }
  },
  {
   "cell_type": "code",
   "execution_count": 34,
   "outputs": [
    {
     "name": "stdout",
     "output_type": "stream",
     "text": [
      "Number of upstream links for 710450998: 40190\n"
     ]
    }
   ],
   "source": [
    "linkno = 710450998 # Replace with the desired LINKNO\n",
    "num_upstream = count_upstream_links(G, linkno)\n",
    "print(f\"Number of upstream links for {linkno}: {num_upstream}\")"
   ],
   "metadata": {
    "collapsed": false
   }
  },
  {
   "cell_type": "code",
   "execution_count": 35,
   "outputs": [],
   "source": [
    "# Assuming you have a DataFrame `df` with 'LINKNO' and 'DSLINKNO'\n",
    "# Filter out rows where 'LINKNO' or 'DSLINKNO' is -1\n",
    "filtered_df = df[(df['LINKNO'] != -1) & (df['DSLINKNO'] != -1)]\n",
    "\n",
    "# Create a directed graph from the filtered dataframe\n",
    "G_filtered = nx.from_pandas_edgelist(filtered_df, 'LINKNO', 'DSLINKNO', create_using=nx.DiGraph())\n",
    "\n",
    "# Now G_filtered is your graph without -1 values\n"
   ],
   "metadata": {
    "collapsed": false
   }
  },
  {
   "cell_type": "code",
   "execution_count": 36,
   "outputs": [
    {
     "name": "stdout",
     "output_type": "stream",
     "text": [
      "[710235268, 710441083, 720195572, 720164197, 730140925, 730231962, 740329561, 740603080, 750252614, 760049883, 760096444, 770490167, 770390434, 770448577]\n"
     ]
    }
   ],
   "source": [
    "def find_unique_nodes_with_50000_upstreams(G_filtered, threshold=6000):\n",
    "    result = []\n",
    "    covered_links = set()  # Store already processed upstream nodes\n",
    "\n",
    "    # Identify downstream-most nodes (nodes with no successors)\n",
    "    downstream_nodes = [node for node in G_filtered.nodes if G_filtered.out_degree(node) == 0]\n",
    "\n",
    "    for node in downstream_nodes:\n",
    "        if node in covered_links:\n",
    "            continue  # Skip if this node's upstreams are already counted\n",
    "\n",
    "        upstream_count = 0\n",
    "        visited = set()\n",
    "        queue = deque([node])\n",
    "\n",
    "        while queue:\n",
    "            current = queue.popleft()\n",
    "            if current in visited:\n",
    "                continue\n",
    "            visited.add(current)\n",
    "\n",
    "            predecessors = list(G.predecessors(current))\n",
    "            upstream_count += len(predecessors)\n",
    "\n",
    "            if upstream_count > threshold:  # Stop early if we exceed the threshold\n",
    "                result.append(node)  # Keep nodes exceeding threshold\n",
    "                covered_links.update(visited)  # Mark all upstream nodes as covered\n",
    "                break\n",
    "\n",
    "            queue.extend(predecessors)\n",
    "\n",
    "    return result\n",
    "\n",
    "# Run the function\n",
    "filtered_linknos = find_unique_nodes_with_50000_upstreams(G_filtered, threshold=6000)\n",
    "\n",
    "print(filtered_linknos)\n"
   ],
   "metadata": {
    "collapsed": false
   }
  },
  {
   "cell_type": "code",
   "execution_count": 16,
   "outputs": [],
   "source": [
    "nexus_points = gpd.read_file(\"/Users/rachel1/Downloads/global_nexus.gpkg\")"
   ],
   "metadata": {
    "collapsed": false
   }
  },
  {
   "cell_type": "markdown",
   "source": [],
   "metadata": {
    "collapsed": false
   }
  },
  {
   "cell_type": "code",
   "execution_count": 24,
   "outputs": [
    {
     "name": "stdout",
     "output_type": "stream",
     "text": [
      "[710458938]\n",
      "[720201520]\n",
      "[720142375]\n",
      "[730246043]\n",
      "[740601736]\n",
      "[760093117]\n",
      "[730244763]\n",
      "[760156342]\n",
      "[730248604]\n",
      "[730247324]\n",
      "[710458938, 720201520, 720142375, 730140925, 730247324, 740601736, 760049883, 760156342, 770390434]\n"
     ]
    }
   ],
   "source": [
    "while True:\n",
    "    ds_counts = df[\"DSLINKNO\"].value_counts()\n",
    "\n",
    "    new_linknos = []\n",
    "    changes_made = False\n",
    "\n",
    "    for linkno in filtered_linknos:\n",
    "        if ds_counts.get(linkno, 0) == 2:\n",
    "            new_linknos.append(linkno)\n",
    "        else:\n",
    "            replacement = df.loc[df[\"DSLINKNO\"] == linkno, \"LINKNO\"].values\n",
    "            print(replacement)\n",
    "            if len(replacement) > 0:\n",
    "                new_value = replacement[0]\n",
    "                if new_value != linkno:  # Ensure there is an actual change\n",
    "                    changes_made = True\n",
    "                new_linknos.append(new_value)\n",
    "            else:\n",
    "                new_linknos.append(linkno)\n",
    "\n",
    "    if not changes_made:  # Stop when no changes occur\n",
    "        break\n",
    "\n",
    "    filtered_linknos = new_linknos  # Update for next iteration\n",
    "\n",
    "print(filtered_linknos)"
   ],
   "metadata": {
    "collapsed": false
   }
  },
  {
   "cell_type": "code",
   "execution_count": 26,
   "outputs": [
    {
     "data": {
      "text/plain": "               Lat         Lon   DSLINKNO  DSStrahlerOrder  \\\n1142411  31.871444 -114.915778  710458938                9   \n1159032  45.600960 -122.587674  720142375                9   \n1166709  49.151637 -123.010758  720201520                8   \n1174255  56.937547  -92.710477  730247324                9   \n1175491  58.781107  -94.212990  730140925                8   \n1191778  46.635516  -71.911809  740601736                9   \n1241641  29.357098  -89.457095  760049883                9   \n1262410  29.833654  -91.395373  760156342                8   \n1283707  25.948556  -97.157889  770390434                8   \n\n                   USLINKNOs                           geometry  \n1142411  710375612,710456954  POINT (-12792365.866 3746447.517)  \n1159032  720120555,720140391  POINT (-13646397.420 5716631.804)  \n1166709  720157872,720215403  POINT (-13693494.896 6300630.266)  \n1174255  730153887,730251165  POINT (-10320483.103 7747364.438)  \n1175491  730085888,730139645  POINT (-10487742.118 8133225.404)  \n1191778  740381320,740599048   POINT (-8005185.951 5882782.555)  \n1241641  760034907,760071500   POINT (-9958318.224 3421175.583)  \n1262410  760091446,760141362  POINT (-10174086.400 3482185.455)  \n1283707  770308274,770358193  POINT (-10815566.718 2992710.723)  ",
      "text/html": "<div>\n<style scoped>\n    .dataframe tbody tr th:only-of-type {\n        vertical-align: middle;\n    }\n\n    .dataframe tbody tr th {\n        vertical-align: top;\n    }\n\n    .dataframe thead th {\n        text-align: right;\n    }\n</style>\n<table border=\"1\" class=\"dataframe\">\n  <thead>\n    <tr style=\"text-align: right;\">\n      <th></th>\n      <th>Lat</th>\n      <th>Lon</th>\n      <th>DSLINKNO</th>\n      <th>DSStrahlerOrder</th>\n      <th>USLINKNOs</th>\n      <th>geometry</th>\n    </tr>\n  </thead>\n  <tbody>\n    <tr>\n      <th>1142411</th>\n      <td>31.871444</td>\n      <td>-114.915778</td>\n      <td>710458938</td>\n      <td>9</td>\n      <td>710375612,710456954</td>\n      <td>POINT (-12792365.866 3746447.517)</td>\n    </tr>\n    <tr>\n      <th>1159032</th>\n      <td>45.600960</td>\n      <td>-122.587674</td>\n      <td>720142375</td>\n      <td>9</td>\n      <td>720120555,720140391</td>\n      <td>POINT (-13646397.420 5716631.804)</td>\n    </tr>\n    <tr>\n      <th>1166709</th>\n      <td>49.151637</td>\n      <td>-123.010758</td>\n      <td>720201520</td>\n      <td>8</td>\n      <td>720157872,720215403</td>\n      <td>POINT (-13693494.896 6300630.266)</td>\n    </tr>\n    <tr>\n      <th>1174255</th>\n      <td>56.937547</td>\n      <td>-92.710477</td>\n      <td>730247324</td>\n      <td>9</td>\n      <td>730153887,730251165</td>\n      <td>POINT (-10320483.103 7747364.438)</td>\n    </tr>\n    <tr>\n      <th>1175491</th>\n      <td>58.781107</td>\n      <td>-94.212990</td>\n      <td>730140925</td>\n      <td>8</td>\n      <td>730085888,730139645</td>\n      <td>POINT (-10487742.118 8133225.404)</td>\n    </tr>\n    <tr>\n      <th>1191778</th>\n      <td>46.635516</td>\n      <td>-71.911809</td>\n      <td>740601736</td>\n      <td>9</td>\n      <td>740381320,740599048</td>\n      <td>POINT (-8005185.951 5882782.555)</td>\n    </tr>\n    <tr>\n      <th>1241641</th>\n      <td>29.357098</td>\n      <td>-89.457095</td>\n      <td>760049883</td>\n      <td>9</td>\n      <td>760034907,760071500</td>\n      <td>POINT (-9958318.224 3421175.583)</td>\n    </tr>\n    <tr>\n      <th>1262410</th>\n      <td>29.833654</td>\n      <td>-91.395373</td>\n      <td>760156342</td>\n      <td>8</td>\n      <td>760091446,760141362</td>\n      <td>POINT (-10174086.400 3482185.455)</td>\n    </tr>\n    <tr>\n      <th>1283707</th>\n      <td>25.948556</td>\n      <td>-97.157889</td>\n      <td>770390434</td>\n      <td>8</td>\n      <td>770308274,770358193</td>\n      <td>POINT (-10815566.718 2992710.723)</td>\n    </tr>\n  </tbody>\n</table>\n</div>"
     },
     "execution_count": 26,
     "metadata": {},
     "output_type": "execute_result"
    }
   ],
   "source": [
    "filtered_nexus_points = nexus_points[nexus_points[\"DSLINKNO\"].isin(filtered_linknos)]\n",
    "filtered_nexus_points"
   ],
   "metadata": {
    "collapsed": false
   }
  },
  {
   "cell_type": "code",
   "execution_count": 27,
   "outputs": [],
   "source": [
    "filtered_nexus_points.to_file(\"/Users/rachel1/Downloads/filtered_nexus_points_10000.gpkg\", driver=\"GPKG\")"
   ],
   "metadata": {
    "collapsed": false
   }
  },
  {
   "cell_type": "code",
   "execution_count": null,
   "outputs": [],
   "source": [],
   "metadata": {
    "collapsed": false
   }
  }
 ],
 "metadata": {
  "kernelspec": {
   "display_name": "Python 3",
   "language": "python",
   "name": "python3"
  },
  "language_info": {
   "codemirror_mode": {
    "name": "ipython",
    "version": 2
   },
   "file_extension": ".py",
   "mimetype": "text/x-python",
   "name": "python",
   "nbconvert_exporter": "python",
   "pygments_lexer": "ipython2",
   "version": "2.7.6"
  }
 },
 "nbformat": 4,
 "nbformat_minor": 0
}
